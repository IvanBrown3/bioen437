{
  "nbformat": 4,
  "nbformat_minor": 0,
  "metadata": {
    "colab": {
      "provenance": []
    },
    "kernelspec": {
      "name": "python3",
      "display_name": "Python 3"
    },
    "language_info": {
      "name": "python"
    }
  },
  "cells": [
    {
      "cell_type": "markdown",
      "source": [
        "# HOMEWORK 1: PYTHON SKILLS\n",
        "This homework is about the python skills needed for this course.\n",
        "\n",
        "1. Copy this notebook to your Google drive.\n",
        "1. Answer the questions.\n",
        "1. Your response to the homework is a link to your Google drive. You should enable write permissions for jflynn56@uw.edu, jlheller@uw.edu, and hsauro@uw.edu."
      ],
      "metadata": {
        "id": "fjCwevvYoZYD"
      }
    },
    {
      "cell_type": "markdown",
      "source": [
        "Colab setup."
      ],
      "metadata": {
        "id": "YqrVQor4GhSv"
      }
    },
    {
      "cell_type": "code",
      "source": [
        "!apt-get install libncurses5\n",
        "!pip install -q tellurium==2.2.8"
      ],
      "metadata": {
        "colab": {
          "base_uri": "https://localhost:8080/"
        },
        "id": "3RknvYNBGtdG",
        "outputId": "ffe0e10b-cad0-4a49-ccf8-eec53637556f"
      },
      "execution_count": null,
      "outputs": [
        {
          "output_type": "stream",
          "name": "stdout",
          "text": [
            "Reading package lists... Done\n",
            "Building dependency tree... Done\n",
            "Reading state information... Done\n",
            "libncurses5 is already the newest version (6.3-2ubuntu0.1).\n",
            "0 upgraded, 0 newly installed, 0 to remove and 18 not upgraded.\n"
          ]
        }
      ]
    },
    {
      "cell_type": "markdown",
      "source": [
        "You have to **restart the runtime any time you replace an old version of a package with a new version**, and we just replaced the old version of numpy with a newer one. You restart the runtime by ``Runtime>Restart and run all``"
      ],
      "metadata": {
        "id": "xNbTa5dsG2fS"
      }
    },
    {
      "cell_type": "markdown",
      "source": [
        "Run the following to handle legacy versions."
      ],
      "metadata": {
        "id": "vw_ZXuFeILSl"
      }
    },
    {
      "cell_type": "code",
      "source": [
        "import numpy as np\n",
        "import sys\n",
        "import matplotlib.pyplot as plt\n",
        "import tellurium as te"
      ],
      "metadata": {
        "id": "Jhzh0CuaHdwd"
      },
      "execution_count": null,
      "outputs": []
    },
    {
      "cell_type": "markdown",
      "source": [
        "# Questions\n",
        "1. (5 pts) Create an Antimony model that consists of a linear chain of 5 species. The reaction rate for $S_k \\rightarrow S_{k+1}$ is $\\frac{S_k}{k}$ for $1 \\leq k \\leq5$. There are two boundary reactions: (i) $S_1$ is synthesized at the rate 1 and (ii) $S_5$ is degraded at a rate $1/5$.  Run the model. Plot the time course of the 5 species. Choose the simulation duration and number of points so that the relationships between species concentrations is clearly displayed.\n",
        "1. (5 pts) Construct a figure with 10 scatter plots organized as follows.\n",
        "    1. For each plot, the x-value is $S_k$ at time $t$ and the y-value is $S_{k+1}$ at time $t$.\n",
        "    1. The columns are $S_k$, for $k \\in \\{1, 2, 3, 4}$. The rows are $k \\in \\{2, 3, 4, 5\\}$. This means that the resulting figure is a half square or triangle. (Look at matplotlib.gridspec.)\n",
        "    1. Explain the shape of the curves when the $x$ and $y$ variables differ. Specifically, explain why the $y$ value is zero for an extended period before it increases abruptly. Use the time series plots in Q1 in your explanation.\n",
        "1. (5 pts) This is a search problem. For the reaction network in (1), add the degradation reaction $S_2 \\rightarrow ∅$ at a rate $S_2$. Also, add the synthesis reaction $\\rightarrow S_4$ at the rate $kk$. Find the value of $kk$ such that the steady state value of $S_5$ in this network is the same as its value in the original network. Plot the time course of the network with the value of $kk$ that you found.\n"
      ],
      "metadata": {
        "id": "mXtqKC_EqPWG"
      }
    },
    {
      "cell_type": "markdown",
      "source": [
        "#Q1 Solution"
      ],
      "metadata": {
        "id": "_L36OM8osvyU"
      }
    },
    {
      "cell_type": "markdown",
      "source": [
        "# Q2 Solution"
      ],
      "metadata": {
        "id": "FTkI2XHbud1a"
      }
    },
    {
      "cell_type": "markdown",
      "source": [
        "# Q3 Solution"
      ],
      "metadata": {
        "id": "dbWKfZXgufwZ"
      }
    }
  ]
}